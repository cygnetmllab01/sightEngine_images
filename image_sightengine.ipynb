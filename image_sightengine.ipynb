{
  "nbformat": 4,
  "nbformat_minor": 0,
  "metadata": {
    "colab": {
      "provenance": []
    },
    "kernelspec": {
      "name": "python3",
      "display_name": "Python 3"
    },
    "language_info": {
      "name": "python"
    }
  },
  "cells": [
    {
      "cell_type": "code",
      "source": [
        "!pip install sightengine"
      ],
      "metadata": {
        "colab": {
          "base_uri": "https://localhost:8080/"
        },
        "id": "xxoKOb2Sxpio",
        "outputId": "39e06b9f-81c0-4535-e8ae-0a24d1e7a720"
      },
      "execution_count": 2,
      "outputs": [
        {
          "output_type": "stream",
          "name": "stdout",
          "text": [
            "Looking in indexes: https://pypi.org/simple, https://us-python.pkg.dev/colab-wheels/public/simple/\n",
            "Collecting sightengine\n",
            "  Downloading sightengine-1.4.0-py2.py3-none-any.whl (4.8 kB)\n",
            "Installing collected packages: sightengine\n",
            "Successfully installed sightengine-1.4.0\n"
          ]
        }
      ]
    },
    {
      "cell_type": "code",
      "source": [
        "import requests\n",
        "import json\n",
        "from sightengine.client import SightengineClient\n",
        "import time\n",
        "from tqdm import tqdm\n",
        "client = SightengineClient('1406150133', 'rjMYsuTWX3Ksy8XXqar3')"
      ],
      "metadata": {
        "id": "Onj49wDAx9u0"
      },
      "execution_count": null,
      "outputs": []
    },
    {
      "cell_type": "code",
      "source": [
        "#https://images.app.goo.gl/tcGiKBfjNR8AQPrEA\n",
        "# this example uses requests\n",
        "\n",
        "# Read a file\n",
        "file = open('/content/drive/MyDrive/NXLVL/Content Moderation/Dataset_SightengineAPI/wad_image_urls.txt', 'r')\n",
        "urls = [line.replace('\\n','') for line in file.readlines()]"
      ],
      "metadata": {
        "id": "uxyrl220yZVO"
      },
      "execution_count": 4,
      "outputs": []
    },
    {
      "cell_type": "code",
      "execution_count": 5,
      "metadata": {
        "id": "h75k-w9Jw3qT"
      },
      "outputs": [],
      "source": [
        "# urls = ['https://image.shutterstock.com/image-photo/deadly-combination-alcohol-firearms-on-260nw-148487273.jpg',\n",
        "#         'https://crimefictionbook.files.wordpress.com/2017/05/alcohol-and-guns.jpeg?w=676&h=379',\n",
        "#         'https://media.istockphoto.com/photos/glass-of-whiskey-cognac-or-bourbon-with-revolver-and-bullets-on-picture-id960698200?k=20&m=960698200&s=612x612&w=0&h=YH0w1dg1u6NiIez_LdpYpCcg7pZuQjvG0y-XFW145Lk=',\n",
        "#         'https://i.pinimg.com/736x/99/62/a3/9962a33c35c149650f0410971fc90831.jpg',\n",
        "#         'https://i.pinimg.com/736x/97/5e/b8/975eb8ae8f22db2f40bebcc3c4dd0666--manly-man-cigars.jpg',\n",
        "#         'https://i.pinimg.com/originals/94/e3/da/94e3da43ffd8fd4149c2b31069d1a673.jpg',\n",
        "#         'https://i.pinimg.com/originals/07/68/3d/07683d253498aa0217987e738e5bcf55.jpg',\n",
        "#         'https://i.pinimg.com/originals/81/92/1c/81921cb87b63e33f115f2d30a9ea9158.jpg',\n",
        "#         'https://i.pinimg.com/originals/76/e7/8a/76e78ab7b8251153039713e603ef7e44.jpg',\n",
        "#         'https://i.pinimg.com/originals/e2/dc/bf/e2dcbfe527b93dc9075c8d1b90f1b97d.jpg',\n",
        "#         'https://i.pinimg.com/originals/61/e9/e5/61e9e5792701a8ff33b7deb06432bbf6.jpg',\n",
        "#         'https://www.wallpaperup.com/uploads/wallpapers/2016/04/14/930249/d90e4b8b0ad4619657bddc06c746163d.jpg',\n",
        "#         'https://c4.wallpaperflare.com/wallpaper/48/224/970/gun-trunk-black-background-cartridges-whiskey-hd-wallpaper-preview.jpg',\n",
        "#         'https://c0.wallpaperflare.com/preview/957/522/329/whiskey-jack-daniels-alcohol-party.jpg',\n",
        "#         'https://thumbs.dreamstime.com/b/whiskey-ice-glass-glass-pills-drugs-nearby-concept-harm-alcohol-drugs-human-body-210922946.jpg',\n",
        "#         'https://www.indiaspend.com/h-upload/2021/07/21/516856-prescription-drugs-controlled-chemicals-are-fuelling-indias-illicit-drug-trade-reports.jpg',\n",
        "#         'https://schools.au.reachout.com/-/media/schools/images/legacy-articles/beer-bottles-and-plastic-cups-full-of-beer-in-toast.jpg',\n",
        "#         'https://cdn.mos.cms.futurecdn.net/WaZJghxxpZP8LujWa588ad-1200-80.jpg',\n",
        "#         'http://www.washingtonpost.com/blogs/wonkblog/files/2016/07/12188202913_f4bc6d1215_h.jpg',\n",
        "#         'https://64.media.tumblr.com/9f757c847c545668c2dc9abb1bf98f55/tumblr_nywjc0pVFn1umx2kso2_500.jpg']\n"
      ]
    },
    {
      "cell_type": "code",
      "source": [
        "with open('output.txt', 'w') as f:\n",
        "    print(\"-----Output Report-----\", file=f)\n",
        "    start_tot = time.time()\n",
        "    for idx, line in tqdm(enumerate(urls)):\n",
        "        print(f\"Sample {idx+1}:\", file=f)\n",
        "        start = time.time()\n",
        "        params = {\n",
        "            'url': line,\n",
        "            'models': 'wad',\n",
        "            'api_user': '1406150133',\n",
        "            'api_secret': 'rjMYsuTWX3Ksy8XXqar3'\n",
        "        }\n",
        "        r = requests.get(\n",
        "            'https://api.sightengine.com/1.0/check.json', params=params)\n",
        "        end = time.time()\n",
        "        total = end - start\n",
        "        output = json.loads(r.text)\n",
        "        print(f\"Time Taken {idx}:{total:.2f} Seconds\", file=f)\n",
        "        print(output, file=f)\n",
        "        print(\"-\"*100, file=f)\n",
        "        # print(f\"Sample {idx+1} Done 👽 🎉.\")\n",
        "    \n",
        "    end_tot = time.time()\n",
        "    print(f\"Total Time Taken by all images:{end_tot - start_tot:.2f} Seconds\", file=f)\n",
        "    print(f\"Total Time Taken by all images:{end_tot - start_tot:.2f} Seconds\")      \n",
        "\n",
        "print(\"Operation Done 🛫🛫🛫.\")"
      ],
      "metadata": {
        "colab": {
          "base_uri": "https://localhost:8080/"
        },
        "id": "X1fV_LZLyi93",
        "outputId": "4ef420cd-e4ab-44dd-ecdf-2c88469ad24a"
      },
      "execution_count": 6,
      "outputs": [
        {
          "output_type": "stream",
          "name": "stderr",
          "text": [
            "20it [00:45,  2.29s/it]"
          ]
        },
        {
          "output_type": "stream",
          "name": "stdout",
          "text": [
            "Total Time Taken by all images:45.88 Seconds\n",
            "Operation Done 🛫🛫🛫.\n"
          ]
        },
        {
          "output_type": "stream",
          "name": "stderr",
          "text": [
            "\n"
          ]
        }
      ]
    },
    {
      "cell_type": "code",
      "source": [
        "from google.colab import drive\n",
        "drive.mount('/content/drive')"
      ],
      "metadata": {
        "colab": {
          "base_uri": "https://localhost:8080/"
        },
        "id": "c-tRfnGExgu8",
        "outputId": "91d30281-96d9-43ba-e055-fe2c2662d45f"
      },
      "execution_count": 1,
      "outputs": [
        {
          "output_type": "stream",
          "name": "stdout",
          "text": [
            "Mounted at /content/drive\n"
          ]
        }
      ]
    }
  ]
}